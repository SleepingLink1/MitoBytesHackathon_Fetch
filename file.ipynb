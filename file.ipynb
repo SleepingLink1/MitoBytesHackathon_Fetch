{
 "cells": [
  {
   "cell_type": "code",
   "execution_count": null,
   "id": "7397351b",
   "metadata": {},
   "outputs": [
    {
     "data": {
      "text/plain": [
       "True"
      ]
     },
     "execution_count": 45,
     "metadata": {},
     "output_type": "execute_result"
    }
   ],
   "source": [
    "from domain.entities.pet import Pet\n",
    "import instructor \n",
    "from openai import OpenAI\n",
    "from dotenv import load_dotenv\n",
    "import os\n",
    "\n",
    "load_dotenv(\".env\")"
   ]
  },
  {
   "cell_type": "code",
   "execution_count": 46,
   "id": "2ddfcb28",
   "metadata": {},
   "outputs": [],
   "source": [
    "from domain.entities.pet import Pet\n",
    "from domain.attributes.pet_characteristic import PetCharacteristic\n",
    "from domain.constants.attributes import (\n",
    "    ActivityLevel, Size, Temperament, FurType, IntelligenceLevel,\n",
    "    MaintenanceLevel, Sex\n",
    ")\n",
    "pet = Pet(\n",
    "    name=\"Buddy\",\n",
    "    species=\"Dog\",\n",
    "    breed=\"Labrador Retriever\",\n",
    "    sex=Sex.MALE,\n",
    "    age=3,\n",
    "    petChar=PetCharacteristic(\n",
    "        activity_level=ActivityLevel.HIGH,\n",
    "        size=Size.LARGE,\n",
    "        temperament=Temperament.CALM,\n",
    "        fur_type=FurType.SHORT,\n",
    "        intelligence=IntelligenceLevel.HIGH,\n",
    "        maintenance=MaintenanceLevel.MEDIUM,\n",
    "        breed=\"Labrador Retriever\",\n",
    "        species=\"Dog\",\n",
    "        hypoallergenic=\"N\"\n",
    "    )\n",
    ")"
   ]
  },
  {
   "cell_type": "code",
   "execution_count": null,
   "id": "fd7b397c",
   "metadata": {},
   "outputs": [],
   "source": [
    "\n",
    "openai_client = OpenAI(api_key=os.getenv(\"OPEN_AI_KEY\"))\n",
    "\n",
    "client = instructor.from_openai(openai_client)\n",
    "\n",
    "# Extract structured data from natural language\n",
    "res = client.chat.completions.create(\n",
    "    model=\"gpt-4o-mini\",\n",
    "    response_model=Pet,\n",
    "    messages=[{\"role\": \"user\", \"content\": \"Max is a corgie who plays with a ball. He loves to cuddle. Max is small. He smells good. He loves treats.\"}],\n",
    ")\n"
   ]
  },
  {
   "cell_type": "code",
   "execution_count": null,
   "id": "7423c555",
   "metadata": {},
   "outputs": [],
   "source": [
    "\n",
    "with open(\"output.json\", \"w\") as f:\n",
    "    f.write(res.model_dump_json(indent=4))\n"
   ]
  },
  {
   "cell_type": "code",
   "execution_count": null,
   "id": "90f0da4b",
   "metadata": {},
   "outputs": [],
   "source": []
  }
 ],
 "metadata": {
  "kernelspec": {
   "display_name": "ml_shit",
   "language": "python",
   "name": "python3"
  },
  "language_info": {
   "codemirror_mode": {
    "name": "ipython",
    "version": 3
   },
   "file_extension": ".py",
   "mimetype": "text/x-python",
   "name": "python",
   "nbconvert_exporter": "python",
   "pygments_lexer": "ipython3",
   "version": "3.11.8"
  }
 },
 "nbformat": 4,
 "nbformat_minor": 5
}
