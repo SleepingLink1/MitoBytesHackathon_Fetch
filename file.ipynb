{
 "cells": [
  {
   "cell_type": "code",
   "execution_count": null,
   "id": "168394b5",
   "metadata": {},
   "outputs": [],
   "source": [
    "!pip install instructor"
   ]
  },
  {
   "cell_type": "code",
   "execution_count": null,
   "id": "937995b7",
   "metadata": {},
   "outputs": [],
   "source": [
    "!pip install python-dotenv"
   ]
  },
  {
   "cell_type": "code",
   "execution_count": 15,
   "id": "7397351b",
   "metadata": {},
   "outputs": [
    {
     "data": {
      "text/plain": [
       "True"
      ]
     },
     "execution_count": 15,
     "metadata": {},
     "output_type": "execute_result"
    }
   ],
   "source": [
    "from domain.entities.pet import Pet\n",
    "import instructor \n",
    "from openai import OpenAI\n",
    "from dotenv import load_dotenv\n",
    "import os\n",
    "\n",
    "load_dotenv(\".env\")"
   ]
  },
  {
   "cell_type": "code",
   "execution_count": 16,
   "id": "2ddfcb28",
   "metadata": {},
   "outputs": [],
   "source": [
    "from domain.entities.pet import Pet\n",
    "from domain.attributes.pet_characteristic import PetCharacteristic\n",
    "from domain.constants.attributes import (\n",
    "    ActivityLevel, Size, Temperament, FurType, IntelligenceLevel,\n",
    "    MaintenanceLevel, Sex\n",
    ")\n",
    "pet = Pet(\n",
    "    name=\"Buddy\",\n",
    "    species=\"Dog\",\n",
    "    breed=\"Labrador Retriever\",\n",
    "    sex=Sex.MALE,\n",
    "    age=3,\n",
    "    petChar=PetCharacteristic(\n",
    "        activity_level=ActivityLevel.HIGH,\n",
    "        size=Size.LARGE,\n",
    "        temperament=Temperament.CALM,\n",
    "        fur_type=FurType.SHORT,\n",
    "        intelligence=IntelligenceLevel.HIGH,\n",
    "        maintenance=MaintenanceLevel.MEDIUM,\n",
    "        breed=\"Labrador Retriever\",\n",
    "        species=\"Dog\",\n",
    "        hypoallergenic=\"N\"\n",
    "    )\n",
    ")"
   ]
  },
  {
   "cell_type": "code",
   "execution_count": 28,
   "id": "6445129a",
   "metadata": {},
   "outputs": [],
   "source": [
    "system_prompt = \"\"\"\n",
    "You are an intelligent assistant helping to map user pet descriptions into a structured survey model.\n",
    "\n",
    "Analyze the user's text carefully.\n",
    "\n",
    "Follow these rules:\n",
    "- If the text mentions a pet playing, running, or being active, assume moderate running miles.\n",
    "- If the pet is small, loves cuddling, and smells good, assume grooming needs are medium and couch fur happiness is high (4 or 5).\n",
    "- If pet size is mentioned as small, set 'happy_with_small_dogs' = True. If no mention of large dogs, default 'happy_with_large_dogs' = False.\n",
    "- If the pet loves cuddling and being near people, set 'personality_traits' to friendly and loyal.\n",
    "- If the description shows active play (balls, toys, running), assume 'active_dogs_enjoyment' = VERY_MUCH.\n",
    "- If the text shows strong affection (cuddles, treats), set 'cute_dogs' = VERY_MUCH.\n",
    "- If not specified, default vacuuming to ONCE per week, yard to True, and food spending to $200.\n",
    "- If the pet doesn't shed hair then assume the pet is hypoallergenic\n",
    "\n",
    "Important:\n",
    "- Do not fabricate facts not hinted at in the text.\n",
    "- If unsure, leave optional fields (like 'intact_requirement') as None.\n",
    "\n",
    "Output the structured PetAdoptionSurvey fields accordingly.\n",
    "\"\"\"\n"
   ]
  },
  {
   "cell_type": "code",
   "execution_count": 29,
   "id": "fd7b397c",
   "metadata": {},
   "outputs": [],
   "source": [
    "\n",
    "openai_client = OpenAI(api_key=os.getenv(\"OPEN_AI_KEY\"))\n",
    "\n",
    "client = instructor.from_openai(openai_client)\n",
    "\n",
    "# Extract structured data from natural language\n",
    "res = client.chat.completions.create(\n",
    "    model=\"gpt-4o-mini\",\n",
    "    response_model=PetCharacteristic,\n",
    "    messages=[\n",
    "        {\"role\": \"system\", \"content\": system_prompt},\n",
    "        {\"role\": \"user\", \"content\": f\"{sample_survey_1}\"}\n",
    "    ],\n",
    ")\n"
   ]
  },
  {
   "cell_type": "code",
   "execution_count": 30,
   "id": "7423c555",
   "metadata": {},
   "outputs": [],
   "source": [
    "\n",
    "with open(\"output.json\", \"w\") as f:\n",
    "    f.write(res.model_dump_json(indent=4))\n"
   ]
  },
  {
   "cell_type": "code",
   "execution_count": 24,
   "id": "90f0da4b",
   "metadata": {},
   "outputs": [],
   "source": [
    "from backend.app.services.questionaire import PetAdoptionSurvey, GroomingSpending, RunningMiles, VacuumTimes, TravelDistance, EnvisionedAge, JourneyPayment, ActiveDogsEnjoyment, CompatibilityValue, CuteDogsLove, OtherPets, GenderPreference\n",
    "\n",
    "sample_survey = PetAdoptionSurvey(\n",
    "    grooming_spending=GroomingSpending.MEDIUM,\n",
    "    running_miles=RunningMiles.RANGE_2_5,\n",
    "    couch_fur_happiness=4,\n",
    "    vacuum_times=VacuumTimes.ONE,\n",
    "    happy_with_large_dogs=True,\n",
    "    happy_with_small_dogs=True,\n",
    "    hoa_pet_contract=\"https://example.com/hoa_pet_contract.png\",\n",
    "    other_pets=[OtherPets.CAT, OtherPets.EXOTIC],\n",
    "    kids_around_friend=True,\n",
    "    travel_distance=TravelDistance.FIVE_TO_TEN,\n",
    "    home_address=\"1234 Bark Street, Dogtown, USA\",\n",
    "    paid_transport=True,\n",
    "    envisioned_age=EnvisionedAge.TWELVE_TO_THIRTY_SIX,\n",
    "    plan_to_travel=True,\n",
    "    journey_payment=JourneyPayment.MEDIUM,\n",
    "    food_spending=200,\n",
    "    has_yard=True,\n",
    "    personality_traits=\"Friendly, playful, loyal\",\n",
    "    active_dogs_enjoyment=ActiveDogsEnjoyment.VERY_MUCH,\n",
    "    value_compatibility=CompatibilityValue.VERY_MUCH,\n",
    "    cute_dogs=CuteDogsLove.VERY_MUCH,\n",
    "    intact_requirement=None,  # Doesn't matter\n",
    "    only_rescue=False,\n",
    "    gender_preference=GenderPreference.FEMALE,\n",
    ")\n",
    "\n",
    "sample_survey_1 = PetAdoptionSurvey(\n",
    "    grooming_spending=GroomingSpending.LOW,\n",
    "    running_miles=RunningMiles.RANGE_0_1,\n",
    "    couch_fur_happiness=5,\n",
    "    vacuum_times=VacuumTimes.ONE,\n",
    "    happy_with_large_dogs=True,\n",
    "    happy_with_small_dogs=True,\n",
    "    hoa_pet_contract=\"https://example.com/hoa1.png\",\n",
    "    other_pets=[OtherPets.CAT],\n",
    "    kids_around_friend=True,\n",
    "    travel_distance=TravelDistance.TEN_PLUS,\n",
    "    home_address=\"123 Elm Street, Springfield, IL\",\n",
    "    paid_transport=False,\n",
    "    envisioned_age=EnvisionedAge.FIVE_TO_TWELVE,\n",
    "    plan_to_travel=True,\n",
    "    journey_payment=JourneyPayment.HIGH,\n",
    "    food_spending=200,\n",
    "    has_yard=True,\n",
    "    personality_traits=\"Playful, friendly, energetic\",\n",
    "    active_dogs_enjoyment=ActiveDogsEnjoyment.VERY_MUCH,\n",
    "    value_compatibility=CompatibilityValue.VERY_MUCH,\n",
    "    cute_dogs=CuteDogsLove.VERY_MUCH,\n",
    "    only_rescue=True,\n",
    "    gender_preference=GenderPreference.MALE\n",
    ")\n",
    "\n"
   ]
  },
  {
   "cell_type": "code",
   "execution_count": null,
   "id": "5d9b1c3a",
   "metadata": {},
   "outputs": [],
   "source": []
  }
 ],
 "metadata": {
  "kernelspec": {
   "display_name": "ml_shit",
   "language": "python",
   "name": "python3"
  },
  "language_info": {
   "codemirror_mode": {
    "name": "ipython",
    "version": 3
   },
   "file_extension": ".py",
   "mimetype": "text/x-python",
   "name": "python",
   "nbconvert_exporter": "python",
   "pygments_lexer": "ipython3",
   "version": "3.11.8"
  }
 },
 "nbformat": 4,
 "nbformat_minor": 5
}
